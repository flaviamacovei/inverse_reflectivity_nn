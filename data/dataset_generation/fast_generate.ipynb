{
 "cells": [
  {
   "cell_type": "code",
   "id": "initial_id",
   "metadata": {
    "collapsed": true,
    "ExecuteTime": {
     "end_time": "2025-06-30T12:40:21.140140Z",
     "start_time": "2025-06-30T12:40:21.136846Z"
    }
   },
   "source": [
    "import numpy as np\n",
    "import torch\n",
    "from tmm_clean.tmm_core import compute_multilayer_optics"
   ],
   "execution_count": 57,
   "outputs": []
  },
  {
   "metadata": {
    "ExecuteTime": {
     "end_time": "2025-06-30T12:42:25.544696Z",
     "start_time": "2025-06-30T12:42:25.539172Z"
    }
   },
   "cell_type": "code",
   "source": [
    "m = 7\n",
    "batch_size = 3\n",
    "\n",
    "# M are the embeddings (precomputed)\n",
    "M = np.random.randn(m, 2)\n",
    "# N are the refractive indices\n",
    "N = np.random.rand(m) + 1\n",
    "N[0] = 1\n",
    "N[1] = 1\n",
    "\n",
    "wl = np.linspace(0.3, 1.5, 1200)"
   ],
   "id": "e967480192d6b00",
   "outputs": [],
   "execution_count": 82
  },
  {
   "metadata": {
    "ExecuteTime": {
     "end_time": "2025-06-30T12:42:26.340426Z",
     "start_time": "2025-06-30T12:42:26.336152Z"
    }
   },
   "cell_type": "code",
   "source": [
    "thickness = np.random.rand(batch_size, 22)\n",
    "v = np.random.choice(5, size=(batch_size, 22), replace=True) + 2\n",
    "v[:, 0] = 0\n",
    "v[:, -2:] = 1"
   ],
   "id": "8fd67a5e743fd5e4",
   "outputs": [],
   "execution_count": 83
  },
  {
   "metadata": {
    "ExecuteTime": {
     "end_time": "2025-06-30T12:42:27.573682Z",
     "start_time": "2025-06-30T12:42:27.569896Z"
    }
   },
   "cell_type": "code",
   "source": [
    "# x are the features\n",
    "x = np.concatenate([thickness[:, :, np.newaxis], M[v]], axis = 2)\n",
    "# ns are the refractive indices in this concrete case\n",
    "ns = N[v]"
   ],
   "id": "e3a70329dcf75c93",
   "outputs": [],
   "execution_count": 84
  },
  {
   "metadata": {
    "ExecuteTime": {
     "end_time": "2025-06-30T12:42:38.419072Z",
     "start_time": "2025-06-30T12:42:38.411905Z"
    }
   },
   "cell_type": "code",
   "source": [
    "print(ns2.shape)\n",
    "print(thickness.shape)"
   ],
   "id": "5c7d4e5807a90bdb",
   "outputs": [
    {
     "name": "stdout",
     "output_type": "stream",
     "text": [
      "torch.Size([3, 22, 1200])\n",
      "torch.Size([3, 22])\n"
     ]
    }
   ],
   "execution_count": 89
  },
  {
   "metadata": {
    "ExecuteTime": {
     "end_time": "2025-06-30T12:42:28.977716Z",
     "start_time": "2025-06-30T12:42:28.769920Z"
    }
   },
   "cell_type": "code",
   "source": [
    "# in the case of constant ris: repeat over all wavelengths\n",
    "ns2 = np.repeat(ns[:, :, None], 1200, axis=2)\n",
    "thickness = torch.from_numpy(thickness)\n",
    "ns2 = torch.from_numpy(ns2)\n",
    "wl = torch.from_numpy(wl)\n",
    "theta = torch.tensor([0])\n",
    "result = compute_multilayer_optics('s', ns2, thickness, theta, wl)"
   ],
   "id": "523a87fc0b286d3b",
   "outputs": [],
   "execution_count": 85
  },
  {
   "metadata": {},
   "cell_type": "code",
   "outputs": [],
   "execution_count": null,
   "source": [
    "for i in range(batch_size):\n",
    "    # thicknesses array of length 22 (num_layers)\n",
    "    thickness = np.random.rand(22)\n",
    "    # v is choice of materials (0 = substrate, 1 = air, 3-7 = material indices)\n",
    "    v = np.random.choice(5, size=22, replace=True) + 2\n",
    "    v[0] = 0\n",
    "    v[-2:] = 1 # last two are air\n",
    "\n",
    "    x = np.hstack([thickness[:, np.newaxis], M[v]])\n",
    "    ns = N[v]\n",
    "\n",
    "    thickness = thickness[None, :]\n",
    "    ns2 = np.repeat(ns[:, None], 1200, axis=1)\n",
    "    ns2 = ns2[None, :]\n",
    "    thickness = torch.tensor(thickness)\n",
    "    ns2 = torch.tensor(ns2)\n",
    "    wl = torch.tensor(wl)\n",
    "    theta = torch.tensor([0])\n",
    "    result = compute_multilayer_optics('s', ns2, thickness, theta, wl)"
   ],
   "id": "b0346002d63e57a7"
  }
 ],
 "metadata": {
  "kernelspec": {
   "display_name": "Python 3",
   "language": "python",
   "name": "python3"
  },
  "language_info": {
   "codemirror_mode": {
    "name": "ipython",
    "version": 2
   },
   "file_extension": ".py",
   "mimetype": "text/x-python",
   "name": "python",
   "nbconvert_exporter": "python",
   "pygments_lexer": "ipython2",
   "version": "2.7.6"
  }
 },
 "nbformat": 4,
 "nbformat_minor": 5
}
